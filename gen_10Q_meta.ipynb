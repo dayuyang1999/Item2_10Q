{
 "cells": [
  {
   "cell_type": "code",
   "execution_count": 1,
   "metadata": {},
   "outputs": [],
   "source": [
    "import dask\n",
    "import pandas as pd\n",
    "import re\n",
    "from tqdm import tqdm_notebook as tqdm"
   ]
  },
  {
   "cell_type": "markdown",
   "metadata": {},
   "source": [
    "# Construct 10q_master"
   ]
  },
  {
   "cell_type": "markdown",
   "metadata": {},
   "source": [
    "## load data"
   ]
  },
  {
   "cell_type": "code",
   "execution_count": 2,
   "metadata": {},
   "outputs": [],
   "source": [
    "data_fp = \"~/Downloads\""
   ]
  },
  {
   "cell_type": "code",
   "execution_count": 3,
   "metadata": {},
   "outputs": [],
   "source": [
    "pd_10x = pd.read_csv(f\"{data_fp}/LM_10X_Summaries_2018.csv\", parse_dates=['FILING_DATE', 'FYE'])"
   ]
  },
  {
   "cell_type": "code",
   "execution_count": 4,
   "metadata": {},
   "outputs": [],
   "source": [
    "pd_10x_ori = pd_10x # back-up"
   ]
  },
  {
   "cell_type": "markdown",
   "metadata": {},
   "source": [
    "## check"
   ]
  },
  {
   "cell_type": "code",
   "execution_count": 5,
   "metadata": {},
   "outputs": [
    {
     "data": {
      "text/plain": [
       "38386"
      ]
     },
     "execution_count": 5,
     "metadata": {},
     "output_type": "execute_result"
    }
   ],
   "source": [
    "# little check\n",
    "# 1. Seem like there are a lot of \"FYE=-99\" companies with fiscal year end missing in 1996. \n",
    "pd_10x_check = pd_10x[pd_10x.FYE != '-99'].copy()\n",
    "pd_10x_check['FYE_dt'] = pd.to_datetime(pd_10x_check.FYE)\n",
    "# 2. for each calendar year, there are a lot of firms whose filing date is one year ahead of fiscal year end\n",
    "# filing date > fiscal year\n",
    "pd_10x_check[(pd_10x_check.FILING_DATE.dt.year > pd_10x_check.FYE_dt.dt.year)&(pd_10x_check.FORM_TYPE=='10-Q')].shape[0]\n"
   ]
  },
  {
   "cell_type": "code",
   "execution_count": 6,
   "metadata": {},
   "outputs": [
    {
     "data": {
      "text/plain": [
       "530108"
      ]
     },
     "execution_count": 6,
     "metadata": {},
     "output_type": "execute_result"
    }
   ],
   "source": [
    "# 3. although for most firms filing date is the same year with fiscal year end\n",
    "# filing date in fiscal year\n",
    "pd_10x_check[(pd_10x_check.FILING_DATE.dt.year == pd_10x_check.FYE_dt.dt.year)&(pd_10x_check.FORM_TYPE=='10-Q')].shape[0]"
   ]
  },
  {
   "cell_type": "code",
   "execution_count": 7,
   "metadata": {},
   "outputs": [
    {
     "data": {
      "text/html": [
       "<div>\n",
       "<style scoped>\n",
       "    .dataframe tbody tr th:only-of-type {\n",
       "        vertical-align: middle;\n",
       "    }\n",
       "\n",
       "    .dataframe tbody tr th {\n",
       "        vertical-align: top;\n",
       "    }\n",
       "\n",
       "    .dataframe thead th {\n",
       "        text-align: right;\n",
       "    }\n",
       "</style>\n",
       "<table border=\"1\" class=\"dataframe\">\n",
       "  <thead>\n",
       "    <tr style=\"text-align: right;\">\n",
       "      <th></th>\n",
       "      <th>CIK</th>\n",
       "      <th>FILING_DATE</th>\n",
       "      <th>FYE</th>\n",
       "      <th>FORM_TYPE</th>\n",
       "      <th>FILE_NAME</th>\n",
       "      <th>SIC</th>\n",
       "      <th>FFInd</th>\n",
       "      <th>N_Words</th>\n",
       "      <th>N_Unique_Words</th>\n",
       "      <th>N_Negative</th>\n",
       "      <th>...</th>\n",
       "      <th>N_Negation</th>\n",
       "      <th>GrossFileSize</th>\n",
       "      <th>NetFileSize</th>\n",
       "      <th>NonTextDocTypeChars</th>\n",
       "      <th>HTMLChars</th>\n",
       "      <th>XBRLChars</th>\n",
       "      <th>XMLChars</th>\n",
       "      <th>N_Tables</th>\n",
       "      <th>N_Exhibits</th>\n",
       "      <th>FYE_dt</th>\n",
       "    </tr>\n",
       "  </thead>\n",
       "  <tbody>\n",
       "  </tbody>\n",
       "</table>\n",
       "<p>0 rows × 27 columns</p>\n",
       "</div>"
      ],
      "text/plain": [
       "Empty DataFrame\n",
       "Columns: [CIK, FILING_DATE, FYE, FORM_TYPE, FILE_NAME, SIC, FFInd, N_Words, N_Unique_Words, N_Negative, N_Positive, N_Uncertainty, N_Litigious, N_ModalWeak, N_Modal_Moderate, N_Modal_Strong, N_Constraining, N_Negation, GrossFileSize, NetFileSize, NonTextDocTypeChars, HTMLChars, XBRLChars, XMLChars, N_Tables, N_Exhibits, FYE_dt]\n",
       "Index: []\n",
       "\n",
       "[0 rows x 27 columns]"
      ]
     },
     "execution_count": 7,
     "metadata": {},
     "output_type": "execute_result"
    }
   ],
   "source": [
    "# 4. however, no firm has its filing date one year before its fiscal year end\n",
    "# filing date < fiscal year\n",
    "pd_10x_check[(pd_10x_check.FILING_DATE.dt.year < pd_10x_check.FYE_dt.dt.year)&(pd_10x_check.FORM_TYPE=='10-K')]"
   ]
  },
  {
   "cell_type": "code",
   "execution_count": 8,
   "metadata": {},
   "outputs": [
    {
     "data": {
      "text/html": [
       "<div>\n",
       "<style scoped>\n",
       "    .dataframe tbody tr th:only-of-type {\n",
       "        vertical-align: middle;\n",
       "    }\n",
       "\n",
       "    .dataframe tbody tr th {\n",
       "        vertical-align: top;\n",
       "    }\n",
       "\n",
       "    .dataframe thead th {\n",
       "        text-align: right;\n",
       "    }\n",
       "</style>\n",
       "<table border=\"1\" class=\"dataframe\">\n",
       "  <thead>\n",
       "    <tr style=\"text-align: right;\">\n",
       "      <th></th>\n",
       "      <th>CIK</th>\n",
       "      <th>FILING_DATE</th>\n",
       "      <th>FYE</th>\n",
       "      <th>FORM_TYPE</th>\n",
       "      <th>FILE_NAME</th>\n",
       "      <th>SIC</th>\n",
       "      <th>FFInd</th>\n",
       "      <th>N_Words</th>\n",
       "      <th>N_Unique_Words</th>\n",
       "      <th>N_Negative</th>\n",
       "      <th>...</th>\n",
       "      <th>N_Constraining</th>\n",
       "      <th>N_Negation</th>\n",
       "      <th>GrossFileSize</th>\n",
       "      <th>NetFileSize</th>\n",
       "      <th>NonTextDocTypeChars</th>\n",
       "      <th>HTMLChars</th>\n",
       "      <th>XBRLChars</th>\n",
       "      <th>XMLChars</th>\n",
       "      <th>N_Tables</th>\n",
       "      <th>N_Exhibits</th>\n",
       "    </tr>\n",
       "  </thead>\n",
       "  <tbody>\n",
       "    <tr>\n",
       "      <th>0</th>\n",
       "      <td>60512</td>\n",
       "      <td>1993-08-13</td>\n",
       "      <td>19930630</td>\n",
       "      <td>10-Q</td>\n",
       "      <td>D:/Edgar/10-X_C\\1993\\QTR3\\19930813_10-Q_edgar_...</td>\n",
       "      <td>1311</td>\n",
       "      <td>30</td>\n",
       "      <td>3037</td>\n",
       "      <td>700</td>\n",
       "      <td>68</td>\n",
       "      <td>...</td>\n",
       "      <td>6</td>\n",
       "      <td>1</td>\n",
       "      <td>63255</td>\n",
       "      <td>25233</td>\n",
       "      <td>0</td>\n",
       "      <td>186</td>\n",
       "      <td>0</td>\n",
       "      <td>0</td>\n",
       "      <td>7</td>\n",
       "      <td>0</td>\n",
       "    </tr>\n",
       "  </tbody>\n",
       "</table>\n",
       "<p>1 rows × 26 columns</p>\n",
       "</div>"
      ],
      "text/plain": [
       "     CIK FILING_DATE       FYE FORM_TYPE  \\\n",
       "0  60512  1993-08-13  19930630      10-Q   \n",
       "\n",
       "                                           FILE_NAME   SIC  FFInd  N_Words  \\\n",
       "0  D:/Edgar/10-X_C\\1993\\QTR3\\19930813_10-Q_edgar_...  1311     30     3037   \n",
       "\n",
       "   N_Unique_Words  N_Negative  ...  N_Constraining  N_Negation  GrossFileSize  \\\n",
       "0             700          68  ...               6           1          63255   \n",
       "\n",
       "   NetFileSize  NonTextDocTypeChars  HTMLChars  XBRLChars  XMLChars  N_Tables  \\\n",
       "0        25233                    0        186          0         0         7   \n",
       "\n",
       "   N_Exhibits  \n",
       "0           0  \n",
       "\n",
       "[1 rows x 26 columns]"
      ]
     },
     "execution_count": 8,
     "metadata": {},
     "output_type": "execute_result"
    }
   ],
   "source": [
    "pd_10x.head(1)"
   ]
  },
  {
   "cell_type": "code",
   "execution_count": 9,
   "metadata": {},
   "outputs": [
    {
     "data": {
      "text/plain": [
       "array(['10-Q', '10-K-A', '10-K', '10-Q-A', '10-K405', '10KSB', '10-KT',\n",
       "       '10-QT-A', '10-QT', '10QSB', '10-K405-A', '10QSB-A', '10KT405',\n",
       "       '10KSB-A', '10KSB40', '10KT405-A', '10KSB40-A', '10-KT-A',\n",
       "       '10-QSB-A', '10-QSB', '10-KSB', '10-KSB-A'], dtype=object)"
      ]
     },
     "execution_count": 9,
     "metadata": {},
     "output_type": "execute_result"
    }
   ],
   "source": [
    "pd_10x.FORM_TYPE.unique()"
   ]
  },
  {
   "cell_type": "code",
   "execution_count": 10,
   "metadata": {},
   "outputs": [],
   "source": [
    "pd_10Q = pd_10x[(pd_10x.FORM_TYPE == '10-Q')&(pd_10x.FILING_DATE.dt.year>=2016)].copy()"
   ]
  },
  {
   "cell_type": "code",
   "execution_count": 11,
   "metadata": {},
   "outputs": [
    {
     "data": {
      "text/html": [
       "<div>\n",
       "<style scoped>\n",
       "    .dataframe tbody tr th:only-of-type {\n",
       "        vertical-align: middle;\n",
       "    }\n",
       "\n",
       "    .dataframe tbody tr th {\n",
       "        vertical-align: top;\n",
       "    }\n",
       "\n",
       "    .dataframe thead th {\n",
       "        text-align: right;\n",
       "    }\n",
       "</style>\n",
       "<table border=\"1\" class=\"dataframe\">\n",
       "  <thead>\n",
       "    <tr style=\"text-align: right;\">\n",
       "      <th></th>\n",
       "      <th>CIK</th>\n",
       "      <th>FILING_DATE</th>\n",
       "      <th>FYE</th>\n",
       "      <th>FORM_TYPE</th>\n",
       "      <th>FILE_NAME</th>\n",
       "      <th>SIC</th>\n",
       "      <th>FFInd</th>\n",
       "      <th>N_Words</th>\n",
       "      <th>N_Unique_Words</th>\n",
       "      <th>N_Negative</th>\n",
       "      <th>...</th>\n",
       "      <th>N_Constraining</th>\n",
       "      <th>N_Negation</th>\n",
       "      <th>GrossFileSize</th>\n",
       "      <th>NetFileSize</th>\n",
       "      <th>NonTextDocTypeChars</th>\n",
       "      <th>HTMLChars</th>\n",
       "      <th>XBRLChars</th>\n",
       "      <th>XMLChars</th>\n",
       "      <th>N_Tables</th>\n",
       "      <th>N_Exhibits</th>\n",
       "    </tr>\n",
       "  </thead>\n",
       "  <tbody>\n",
       "    <tr>\n",
       "      <th>943316</th>\n",
       "      <td>763950</td>\n",
       "      <td>2016-01-04</td>\n",
       "      <td>20150930</td>\n",
       "      <td>10-Q</td>\n",
       "      <td>D:/Edgar/10-X_C\\2016\\QTR1\\20160104_10-Q_edgar_...</td>\n",
       "      <td>3823</td>\n",
       "      <td>37</td>\n",
       "      <td>8127</td>\n",
       "      <td>1144</td>\n",
       "      <td>177</td>\n",
       "      <td>...</td>\n",
       "      <td>52</td>\n",
       "      <td>9</td>\n",
       "      <td>242947</td>\n",
       "      <td>62639</td>\n",
       "      <td>0</td>\n",
       "      <td>131486</td>\n",
       "      <td>0</td>\n",
       "      <td>0</td>\n",
       "      <td>9</td>\n",
       "      <td>2</td>\n",
       "    </tr>\n",
       "  </tbody>\n",
       "</table>\n",
       "<p>1 rows × 26 columns</p>\n",
       "</div>"
      ],
      "text/plain": [
       "           CIK FILING_DATE       FYE FORM_TYPE  \\\n",
       "943316  763950  2016-01-04  20150930      10-Q   \n",
       "\n",
       "                                                FILE_NAME   SIC  FFInd  \\\n",
       "943316  D:/Edgar/10-X_C\\2016\\QTR1\\20160104_10-Q_edgar_...  3823     37   \n",
       "\n",
       "        N_Words  N_Unique_Words  N_Negative  ...  N_Constraining  N_Negation  \\\n",
       "943316     8127            1144         177  ...              52           9   \n",
       "\n",
       "        GrossFileSize  NetFileSize  NonTextDocTypeChars  HTMLChars  XBRLChars  \\\n",
       "943316         242947        62639                    0     131486          0   \n",
       "\n",
       "        XMLChars  N_Tables  N_Exhibits  \n",
       "943316         0         9           2  \n",
       "\n",
       "[1 rows x 26 columns]"
      ]
     },
     "execution_count": 11,
     "metadata": {},
     "output_type": "execute_result"
    }
   ],
   "source": [
    "pd_10Q.head(1)"
   ]
  },
  {
   "cell_type": "code",
   "execution_count": 12,
   "metadata": {},
   "outputs": [
    {
     "data": {
      "text/plain": [
       "2016    20370\n",
       "2017    19541\n",
       "2018    18925\n",
       "Name: FILING_DATE, dtype: int64"
      ]
     },
     "execution_count": 12,
     "metadata": {},
     "output_type": "execute_result"
    }
   ],
   "source": [
    "count_by_year = pd_10Q.FILING_DATE.dt.year.value_counts()\n",
    "count_by_year.sort_index()"
   ]
  },
  {
   "cell_type": "code",
   "execution_count": 13,
   "metadata": {},
   "outputs": [
    {
     "data": {
      "text/plain": [
       "Index(['CIK', 'FILING_DATE', 'FYE', 'FORM_TYPE', 'FILE_NAME', 'SIC', 'FFInd',\n",
       "       'N_Words', 'N_Unique_Words', 'N_Negative', 'N_Positive',\n",
       "       'N_Uncertainty', 'N_Litigious', 'N_ModalWeak', 'N_Modal_Moderate',\n",
       "       'N_Modal_Strong', 'N_Constraining', 'N_Negation', 'GrossFileSize',\n",
       "       'NetFileSize', 'NonTextDocTypeChars', 'HTMLChars', 'XBRLChars',\n",
       "       'XMLChars', 'N_Tables', 'N_Exhibits'],\n",
       "      dtype='object')"
      ]
     },
     "execution_count": 13,
     "metadata": {},
     "output_type": "execute_result"
    }
   ],
   "source": [
    "pd_10Q.columns"
   ]
  },
  {
   "cell_type": "markdown",
   "metadata": {},
   "source": [
    "## processing(add company name)"
   ]
  },
  {
   "cell_type": "code",
   "execution_count": 14,
   "metadata": {},
   "outputs": [],
   "source": [
    "pd_10Q.loc[:, 'FILE_NAME'] = pd_10Q.FILE_NAME.apply(lambda x: x.replace('D:/Edgar/10-X_C', '10-X_C_2016-2018'))\n"
   ]
  },
  {
   "cell_type": "code",
   "execution_count": 15,
   "metadata": {},
   "outputs": [],
   "source": [
    "pd_10Q.loc[:, 'FILE_NAME'] = pd_10Q.FILE_NAME.apply(lambda x: x.replace('\\\\', '/'))\n"
   ]
  },
  {
   "cell_type": "code",
   "execution_count": 16,
   "metadata": {},
   "outputs": [
    {
     "data": {
      "text/html": [
       "<div>\n",
       "<style scoped>\n",
       "    .dataframe tbody tr th:only-of-type {\n",
       "        vertical-align: middle;\n",
       "    }\n",
       "\n",
       "    .dataframe tbody tr th {\n",
       "        vertical-align: top;\n",
       "    }\n",
       "\n",
       "    .dataframe thead th {\n",
       "        text-align: right;\n",
       "    }\n",
       "</style>\n",
       "<table border=\"1\" class=\"dataframe\">\n",
       "  <thead>\n",
       "    <tr style=\"text-align: right;\">\n",
       "      <th></th>\n",
       "      <th>CIK</th>\n",
       "      <th>FILING_DATE</th>\n",
       "      <th>FYE</th>\n",
       "      <th>FORM_TYPE</th>\n",
       "      <th>FILE_NAME</th>\n",
       "      <th>SIC</th>\n",
       "      <th>FFInd</th>\n",
       "      <th>N_Words</th>\n",
       "      <th>N_Unique_Words</th>\n",
       "      <th>N_Negative</th>\n",
       "      <th>...</th>\n",
       "      <th>N_Constraining</th>\n",
       "      <th>N_Negation</th>\n",
       "      <th>GrossFileSize</th>\n",
       "      <th>NetFileSize</th>\n",
       "      <th>NonTextDocTypeChars</th>\n",
       "      <th>HTMLChars</th>\n",
       "      <th>XBRLChars</th>\n",
       "      <th>XMLChars</th>\n",
       "      <th>N_Tables</th>\n",
       "      <th>N_Exhibits</th>\n",
       "    </tr>\n",
       "  </thead>\n",
       "  <tbody>\n",
       "    <tr>\n",
       "      <th>943316</th>\n",
       "      <td>763950</td>\n",
       "      <td>2016-01-04</td>\n",
       "      <td>20150930</td>\n",
       "      <td>10-Q</td>\n",
       "      <td>10-X_C_2016-2018/2016/QTR1/20160104_10-Q_edgar...</td>\n",
       "      <td>3823</td>\n",
       "      <td>37</td>\n",
       "      <td>8127</td>\n",
       "      <td>1144</td>\n",
       "      <td>177</td>\n",
       "      <td>...</td>\n",
       "      <td>52</td>\n",
       "      <td>9</td>\n",
       "      <td>242947</td>\n",
       "      <td>62639</td>\n",
       "      <td>0</td>\n",
       "      <td>131486</td>\n",
       "      <td>0</td>\n",
       "      <td>0</td>\n",
       "      <td>9</td>\n",
       "      <td>2</td>\n",
       "    </tr>\n",
       "    <tr>\n",
       "      <th>943326</th>\n",
       "      <td>62234</td>\n",
       "      <td>2016-01-05</td>\n",
       "      <td>20151126</td>\n",
       "      <td>10-Q</td>\n",
       "      <td>10-X_C_2016-2018/2016/QTR1/20160105_10-Q_edgar...</td>\n",
       "      <td>7830</td>\n",
       "      <td>7</td>\n",
       "      <td>10023</td>\n",
       "      <td>1343</td>\n",
       "      <td>71</td>\n",
       "      <td>...</td>\n",
       "      <td>39</td>\n",
       "      <td>5</td>\n",
       "      <td>3302076</td>\n",
       "      <td>74283</td>\n",
       "      <td>162902</td>\n",
       "      <td>884629</td>\n",
       "      <td>1466007</td>\n",
       "      <td>624064</td>\n",
       "      <td>55</td>\n",
       "      <td>9</td>\n",
       "    </tr>\n",
       "  </tbody>\n",
       "</table>\n",
       "<p>2 rows × 26 columns</p>\n",
       "</div>"
      ],
      "text/plain": [
       "           CIK FILING_DATE       FYE FORM_TYPE  \\\n",
       "943316  763950  2016-01-04  20150930      10-Q   \n",
       "943326   62234  2016-01-05  20151126      10-Q   \n",
       "\n",
       "                                                FILE_NAME   SIC  FFInd  \\\n",
       "943316  10-X_C_2016-2018/2016/QTR1/20160104_10-Q_edgar...  3823     37   \n",
       "943326  10-X_C_2016-2018/2016/QTR1/20160105_10-Q_edgar...  7830      7   \n",
       "\n",
       "        N_Words  N_Unique_Words  N_Negative  ...  N_Constraining  N_Negation  \\\n",
       "943316     8127            1144         177  ...              52           9   \n",
       "943326    10023            1343          71  ...              39           5   \n",
       "\n",
       "        GrossFileSize  NetFileSize  NonTextDocTypeChars  HTMLChars  XBRLChars  \\\n",
       "943316         242947        62639                    0     131486          0   \n",
       "943326        3302076        74283               162902     884629    1466007   \n",
       "\n",
       "        XMLChars  N_Tables  N_Exhibits  \n",
       "943316         0         9           2  \n",
       "943326    624064        55           9  \n",
       "\n",
       "[2 rows x 26 columns]"
      ]
     },
     "execution_count": 16,
     "metadata": {},
     "output_type": "execute_result"
    }
   ],
   "source": [
    "pd_10Q.head(2)"
   ]
  },
  {
   "cell_type": "code",
   "execution_count": 17,
   "metadata": {},
   "outputs": [],
   "source": [
    "pd_10Q = pd_10Q[['CIK', 'FILING_DATE', 'FYE', 'SIC', 'FFInd', 'FILE_NAME', 'N_Words', 'N_Unique_Words']].copy()"
   ]
  },
  {
   "cell_type": "code",
   "execution_count": 18,
   "metadata": {},
   "outputs": [],
   "source": [
    "pd_10Q['org_index'] = pd_10Q.index.values\n",
    "pd_10Q.reset_index(drop=True, inplace=True)"
   ]
  },
  {
   "cell_type": "code",
   "execution_count": 29,
   "metadata": {},
   "outputs": [],
   "source": [
    "rule1 = re.compile('<SEC-Header>(.*)</SEC-Header>', re.I|re.DOTALL)\n",
    "rule2 = re.compile('^ *?company conformed name:(.*?)$', re.I|re.M)\n",
    "\n",
    "@dask.delayed\n",
    "def get_company_name(i, pd_10Q):\n",
    "    company_name = \"\"\n",
    "    file_fp = f\"{pd_10Q.loc[i, 'FILE_NAME']}\"\n",
    "    with open(file_fp) as f:\n",
    "        filing_str = f.read()\n",
    "        filing_str = rule1.search(filing_str).group(1).replace('\\t','')\n",
    "        r = rule2.search(filing_str)\n",
    "        if r:\n",
    "            company_name = r.group(1)\n",
    "    return i, company_name"
   ]
  },
  {
   "cell_type": "code",
   "execution_count": 30,
   "metadata": {},
   "outputs": [],
   "source": [
    "# n_row = 10\n",
    "n_row = pd_10Q.shape[0]\n",
    "company_names = [get_company_name(i, pd_10Q) for i in range(n_row)]"
   ]
  },
  {
   "cell_type": "code",
   "execution_count": 31,
   "metadata": {},
   "outputs": [],
   "source": [
    "results = dask.compute(company_names, num_workers=16)[0]"
   ]
  },
  {
   "cell_type": "code",
   "execution_count": 32,
   "metadata": {},
   "outputs": [],
   "source": [
    "_index, _data = zip(*results)\n",
    "company_names = pd.Series(data=_data, index=_index)\n",
    "company_names.sort_index(inplace=True)"
   ]
  },
  {
   "cell_type": "code",
   "execution_count": 33,
   "metadata": {},
   "outputs": [],
   "source": [
    "pd_10Q['company_name'] = company_names"
   ]
  },
  {
   "cell_type": "code",
   "execution_count": 34,
   "metadata": {
    "scrolled": false
   },
   "outputs": [
    {
     "data": {
      "text/html": [
       "<div>\n",
       "<style scoped>\n",
       "    .dataframe tbody tr th:only-of-type {\n",
       "        vertical-align: middle;\n",
       "    }\n",
       "\n",
       "    .dataframe tbody tr th {\n",
       "        vertical-align: top;\n",
       "    }\n",
       "\n",
       "    .dataframe thead th {\n",
       "        text-align: right;\n",
       "    }\n",
       "</style>\n",
       "<table border=\"1\" class=\"dataframe\">\n",
       "  <thead>\n",
       "    <tr style=\"text-align: right;\">\n",
       "      <th></th>\n",
       "      <th>CIK</th>\n",
       "      <th>FILING_DATE</th>\n",
       "      <th>FYE</th>\n",
       "      <th>SIC</th>\n",
       "      <th>FFInd</th>\n",
       "      <th>FILE_NAME</th>\n",
       "      <th>N_Words</th>\n",
       "      <th>N_Unique_Words</th>\n",
       "      <th>org_index</th>\n",
       "      <th>company_name</th>\n",
       "    </tr>\n",
       "  </thead>\n",
       "  <tbody>\n",
       "    <tr>\n",
       "      <th>0</th>\n",
       "      <td>763950</td>\n",
       "      <td>2016-01-04</td>\n",
       "      <td>20150930</td>\n",
       "      <td>3823</td>\n",
       "      <td>37</td>\n",
       "      <td>10-X_C_2016-2018/2016/QTR1/20160104_10-Q_edgar...</td>\n",
       "      <td>8127</td>\n",
       "      <td>1144</td>\n",
       "      <td>943316</td>\n",
       "      <td>UNIVERSAL DETECTION TECHNOLOGY</td>\n",
       "    </tr>\n",
       "  </tbody>\n",
       "</table>\n",
       "</div>"
      ],
      "text/plain": [
       "      CIK FILING_DATE       FYE   SIC  FFInd  \\\n",
       "0  763950  2016-01-04  20150930  3823     37   \n",
       "\n",
       "                                           FILE_NAME  N_Words  N_Unique_Words  \\\n",
       "0  10-X_C_2016-2018/2016/QTR1/20160104_10-Q_edgar...     8127            1144   \n",
       "\n",
       "   org_index                    company_name  \n",
       "0     943316  UNIVERSAL DETECTION TECHNOLOGY  "
      ]
     },
     "execution_count": 34,
     "metadata": {},
     "output_type": "execute_result"
    }
   ],
   "source": [
    "pd_10Q.head(1)"
   ]
  },
  {
   "cell_type": "code",
   "execution_count": 36,
   "metadata": {},
   "outputs": [],
   "source": [
    "# Get file hash to identify firms which file exactly the same contents.\n",
    "def get_file_hash(_str):\n",
    "    re_file_hash = re.compile('edgar_data_\\d+_(.+)\\.txt')\n",
    "    r = re_file_hash.search(_str)\n",
    "    if r:\n",
    "        return r.group(1)\n",
    "    else:\n",
    "        return ''"
   ]
  },
  {
   "cell_type": "code",
   "execution_count": 37,
   "metadata": {},
   "outputs": [],
   "source": [
    "pd_10Q['file_hash'] = pd_10Q.FILE_NAME.apply(get_file_hash)\n",
    "file_count = pd_10Q.file_hash.value_counts().reset_index()\n",
    "file_count = file_count.rename({'file_hash': 'file_hash_count', 'index': 'file_hash'}, axis=1)\n",
    "pd_10Q = pd_10Q.merge(file_count, on='file_hash', how='left')\n"
   ]
  },
  {
   "cell_type": "code",
   "execution_count": 38,
   "metadata": {},
   "outputs": [
    {
     "data": {
      "text/html": [
       "<div>\n",
       "<style scoped>\n",
       "    .dataframe tbody tr th:only-of-type {\n",
       "        vertical-align: middle;\n",
       "    }\n",
       "\n",
       "    .dataframe tbody tr th {\n",
       "        vertical-align: top;\n",
       "    }\n",
       "\n",
       "    .dataframe thead th {\n",
       "        text-align: right;\n",
       "    }\n",
       "</style>\n",
       "<table border=\"1\" class=\"dataframe\">\n",
       "  <thead>\n",
       "    <tr style=\"text-align: right;\">\n",
       "      <th></th>\n",
       "      <th>CIK</th>\n",
       "      <th>FILING_DATE</th>\n",
       "      <th>FYE</th>\n",
       "      <th>SIC</th>\n",
       "      <th>FFInd</th>\n",
       "      <th>FILE_NAME</th>\n",
       "      <th>N_Words</th>\n",
       "      <th>N_Unique_Words</th>\n",
       "      <th>org_index</th>\n",
       "      <th>company_name</th>\n",
       "      <th>file_hash</th>\n",
       "      <th>file_hash_count</th>\n",
       "    </tr>\n",
       "  </thead>\n",
       "  <tbody>\n",
       "    <tr>\n",
       "      <th>0</th>\n",
       "      <td>763950</td>\n",
       "      <td>2016-01-04</td>\n",
       "      <td>20150930</td>\n",
       "      <td>3823</td>\n",
       "      <td>37</td>\n",
       "      <td>10-X_C_2016-2018/2016/QTR1/20160104_10-Q_edgar...</td>\n",
       "      <td>8127</td>\n",
       "      <td>1144</td>\n",
       "      <td>943316</td>\n",
       "      <td>UNIVERSAL DETECTION TECHNOLOGY</td>\n",
       "      <td>0001078782-16-002115_3</td>\n",
       "      <td>1</td>\n",
       "    </tr>\n",
       "  </tbody>\n",
       "</table>\n",
       "</div>"
      ],
      "text/plain": [
       "      CIK FILING_DATE       FYE   SIC  FFInd  \\\n",
       "0  763950  2016-01-04  20150930  3823     37   \n",
       "\n",
       "                                           FILE_NAME  N_Words  N_Unique_Words  \\\n",
       "0  10-X_C_2016-2018/2016/QTR1/20160104_10-Q_edgar...     8127            1144   \n",
       "\n",
       "   org_index                    company_name               file_hash  \\\n",
       "0     943316  UNIVERSAL DETECTION TECHNOLOGY  0001078782-16-002115_3   \n",
       "\n",
       "   file_hash_count  \n",
       "0                1  "
      ]
     },
     "execution_count": 38,
     "metadata": {},
     "output_type": "execute_result"
    }
   ],
   "source": [
    "pd_10Q.head(1)"
   ]
  },
  {
   "cell_type": "code",
   "execution_count": 39,
   "metadata": {},
   "outputs": [],
   "source": [
    "pd_10Q.to_pickle(f\"{data_fp}/10Q_master_v1\")"
   ]
  }
 ],
 "metadata": {
  "kernelspec": {
   "display_name": "Python 3",
   "language": "python",
   "name": "python3"
  },
  "language_info": {
   "codemirror_mode": {
    "name": "ipython",
    "version": 3
   },
   "file_extension": ".py",
   "mimetype": "text/x-python",
   "name": "python",
   "nbconvert_exporter": "python",
   "pygments_lexer": "ipython3",
   "version": "3.8.3"
  }
 },
 "nbformat": 4,
 "nbformat_minor": 4
}
